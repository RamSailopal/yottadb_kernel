{
 "cells": [
  {
   "cell_type": "markdown",
   "metadata": {},
   "source": [
    "# Befehle\n",
    "## BREAK\n",
    "Nicht in Jupyter nutzen!\n",
    "## CLOSE\n",
    "## DO\n",
    "## ELSE\n",
    "## FOR\n",
    "## GOTO\n",
    "## HALT\n",
    "Nicht in Jupyter nutzen!\n",
    "## HANG\n",
    "Nicht in Jupyter nutzen!\n",
    "## IF\n",
    "## JOB\n",
    "## KILL\n",
    "## LOCK\n",
    "## MERGE\n",
    "## NEW\n",
    "## OPEN\n",
    "## QUIT\n",
    "## READ\n",
    "## SET\n",
    "## USE\n",
    "## VIEW\n",
    "Nicht in Jupyter nutzen!\n",
    "## WRITE\n",
    "## ZWRITE\n",
    "## XECUTE. "
   ]
  },
  {
   "cell_type": "markdown",
   "metadata": {},
   "source": [
    "# SET,  MERGE, WRITE und ZWRITE"
   ]
  },
  {
   "cell_type": "code",
   "execution_count": 88,
   "metadata": {},
   "outputs": [
    {
     "name": "stdout",
     "output_type": "stream",
     "text": [
      "\r\n",
      "\r"
     ]
    }
   ],
   "source": [
    "    K  ; Löscht alle lokalen Variablen\n",
    "    ; Einfaches SET und WRITE\n",
    "    SET a=1 WRITE \"a=\",a,!\n",
    "    \n",
    "    ; MERGE: Kopiert Bäume (deep-copy)\n",
    "    s a(1)=1,a(1,2,3)=123,a(1,2,4)=124 merge b=a\n",
    "    w \"zwr a:\",! zwr a\n",
    "    w \"zwr b:\",! zwr b\n",
    "    \n",
    "    ; KILL: Löscht (Teil-)Bäume\n",
    "    k b(1,2) w \"Nach \"\"KILL k b(1,2)\"\":\",! zwr b\n",
    "    \n",
    "    ; Achtung MERGE kopiert addierend!\n",
    "    KILL b s b(55)=\"Hallo\"\n",
    "    w \"Vor merge: \",! zwr b\n",
    "    m b=a\n",
    "    w \"Nach merge: \",! zwr b"
   ]
  },
  {
   "cell_type": "markdown",
   "metadata": {},
   "source": [
    "# Intrinsic Functios"
   ]
  },
  {
   "cell_type": "code",
   "execution_count": 86,
   "metadata": {},
   "outputs": [
    {
     "name": "stdout",
     "output_type": "stream",
     "text": [
      "\r\n",
      "\r"
     ]
    }
   ],
   "source": [
    "    k\n",
    "    s a=1,b(1)=2,c=3,c(2,3,4)=7\n",
    "    w \"$DATA(a)=\",$data(a),!\n",
    "    w \"$DATA(b)=\",$data(b),!\n",
    "    w \"$DATA(c)=\",$data(c),!\n",
    "    w \"$DATA(d)=\",$data(d),!"
   ]
  },
  {
   "cell_type": "markdown",
   "metadata": {},
   "source": [
    "# Expression\n",
    "Auswertung strikt von links nach rechts!\n",
    "Ggf. Prioritätsklammern setzen!"
   ]
  },
  {
   "cell_type": "code",
   "execution_count": 89,
   "metadata": {},
   "outputs": [
    {
     "name": "stdout",
     "output_type": "stream",
     "text": [
      "\r\n",
      "\r"
     ]
    }
   ],
   "source": [
    "    k\n",
    "    w \"1+2*3=\",1+2*3,\"!!!\",!\n",
    "    w \"1+(2*3)=\",1+(2*3),!\n",
    "    set a=1+2,b=2*a,c=b\n",
    "    zwr"
   ]
  },
  {
   "cell_type": "markdown",
   "metadata": {},
   "source": [
    "# Conditions\n",
    "Zum Testen in Zeile 1 a anpassen!\n",
    "## L1 Condition gilt für ganze restliche Zeile\n",
    "## L2 if-else\n",
    "Wegen historischen Altlasten sollte if-else immer mit Codeeinrückung (Block) eingesetzt werden!\n",
    "## L3 Nachbedingung\n",
    "Gilt nur für konkreten Befehl, Zeile wird weiter abgearbeitet.\n",
    "## L4 \\$SELECT - Verzweigung im Ausdruck\n"
   ]
  },
  {
   "cell_type": "code",
   "execution_count": 90,
   "metadata": {},
   "outputs": [
    {
     "name": "stdout",
     "output_type": "stream",
     "text": [
      "\r\n",
      "\r"
     ]
    }
   ],
   "source": [
    "    s a=2 w \"a=\",a,!\n",
    "\n",
    "L1  w \"L1: \"\n",
    "    if a>0 w a,\">\",0,\"!\" w \" Hallo\"\n",
    "    w !\n",
    "L2  w \"L2: \" \n",
    "    if a>0 d\n",
    "    . w a,\">0\",\"!\"\n",
    "    e  d\n",
    "    . w a,\"<=0\",\"!\"\n",
    "    w !\n",
    "L3  w \"L3: \" \n",
    "    w:a>0 a,\">0\" w:'(a>0) a,\"<=0\" w \" und es geht weiter...\",!\n",
    "    \n",
    "L4  w \"L4: \",$S(a>0:a_\">\"_0,1:a_\"<=0\"),!"
   ]
  },
  {
   "cell_type": "markdown",
   "metadata": {},
   "source": [
    "# loops\n",
    "Es gibt nur eine for-Schleife, die aber durch Weglassen von Parameter anders genutzt werden kann.\n",
    "## L1\n",
    "Normale zählergesteuerte Schleife\n",
    "## L2\n",
    "Increment und Upper-limit werden in der Schleife nicht neu berechnet!\n",
    "## L3\n",
    "Fußgesteuerte Schleife - do-while in C\n",
    "## L4\n",
    "Kopfgesteuerte Schleife - while in C"
   ]
  },
  {
   "cell_type": "code",
   "execution_count": 91,
   "metadata": {},
   "outputs": [
    {
     "name": "stdout",
     "output_type": "stream",
     "text": [
      "\r\n",
      "\r"
     ]
    }
   ],
   "source": [
    "L1  w \"for-loop:\" f i=1:1:10 w \" \",i\n",
    "    w !\n",
    "L2  s max=10,step=1\n",
    "    w \"for-loop with changing parameters:\" f i=1:step:max w \" \",i s max=20,step=2\n",
    "    w \" Nothing changes!!!\",!\n",
    "L3  w \"do-while-loop:\"\n",
    "    s start=30,limit=20\n",
    "    s i=start f  d  q:i>limit\n",
    "    . w \" \",i s i=i+1\n",
    "    w !\n",
    "L4  w \"while-loop:\"\n",
    "    s start=10,limit=20\n",
    "    s i=start f  q:i>limit  d\n",
    "    . w \" \",i s i=i+1\n",
    "    w !\n"
   ]
  },
  {
   "cell_type": "markdown",
   "metadata": {},
   "source": [
    "# Sieb des Eratosthenes"
   ]
  },
  {
   "cell_type": "code",
   "execution_count": 92,
   "metadata": {},
   "outputs": [
    {
     "name": "stdout",
     "output_type": "stream",
     "text": [
      "\r\n",
      "\r"
     ]
    }
   ],
   "source": [
    "    s max=100\n",
    "    w \"Prime Numbers up to \",max,\":\"\n",
    "    w !,2,!\n",
    "    k np for i=3:2:max do\n",
    "    . if ('$DATA(np(i))) d\n",
    "    . . w i,!\n",
    "    . . for j=3*i:2*i:max s np(j)=1\n",
    "    k np zwr"
   ]
  },
  {
   "cell_type": "markdown",
   "metadata": {},
   "source": [
    "# Recursion\n",
    "## Faculty\n",
    "## Fibonacci\n",
    "Be careful because n should not be too great, runtime is exponential to n!\n",
    "## Hanoi\n"
   ]
  },
  {
   "cell_type": "code",
   "execution_count": 93,
   "metadata": {},
   "outputs": [
    {
     "name": "stdout",
     "output_type": "stream",
     "text": [
      "\r\n",
      "\r"
     ]
    }
   ],
   "source": [
    "    set n=5\n",
    "    write \"n! = \",$$fak(n),!\n",
    "    write \"Fibo(\"_n_\")=\",$$fibonacci(n),!\n",
    "    write \"Towers of Hanoi:\",! do hanoi(1,2,3,n)\n",
    "    q\n",
    "\n",
    "fak(n) ;\n",
    "    quit $SELECT(n<0:-1,n=0:1,1:n*$$fak(n-1))\n",
    "\n",
    "fibonacci(n) ;\n",
    "    quit $SELECT(n<=1:n,1:$$fibonacci(n-1)+$$fibonacci(n-2))\n",
    "\n",
    "hanoi(from,to,via,height)\n",
    "    if height>1 do hanoi(from,via,to,height-1)\n",
    "    w from,\" -> \",to,!\n",
    "    if height>1 do hanoi(via,to,from,height-1)\n"
   ]
  }
 ],
 "metadata": {
  "kernelspec": {
   "display_name": "YottaDB",
   "language": "python",
   "name": "yottadb"
  },
  "language_info": {
   "codemirror_mode": "MUMPS",
   "file_extension": ".m",
   "mimetype": "text/plain",
   "name": "Any text"
  }
 },
 "nbformat": 4,
 "nbformat_minor": 2
}
